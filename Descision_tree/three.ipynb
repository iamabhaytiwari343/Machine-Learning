{
 "cells": [
  {
   "cell_type": "code",
   "execution_count": 1,
   "metadata": {},
   "outputs": [
    {
     "name": "stdout",
     "output_type": "stream",
     "text": [
      "Predicted: Apple\n"
     ]
    }
   ],
   "source": [
    "from sklearn.tree import DecisionTreeClassifier\n",
    "from sklearn import preprocessing\n",
    "\n",
    "# Sample dataset about fruits\n",
    "# Features: Weight, Surface Texture (0 for smooth, 1 for bumpy)\n",
    "# Target variable: Fruit type (0 for Apple, 1 for Orange)\n",
    "X = [\n",
    "    [150, 0],\n",
    "    [170, 0],\n",
    "    [140, 1],\n",
    "    [130, 1],\n",
    "    [180, 0],\n",
    "    [160, 1],\n",
    "    [135, 1],\n",
    "    [145, 0]\n",
    "]\n",
    "y = [0, 0, 1, 1, 0, 1, 1, 0]\n",
    "\n",
    "# Initialize a decision tree classifier\n",
    "clf = DecisionTreeClassifier()\n",
    "\n",
    "# Fit the classifier to the data\n",
    "clf.fit(X, y)\n",
    "\n",
    "# Predicting for a new fruit\n",
    "# For example, a fruit weighing 155 grams with a smooth surface (0)\n",
    "new_fruit = [[155, 0]]\n",
    "prediction = clf.predict(new_fruit)\n",
    "\n",
    "# Print the predicted fruit type\n",
    "if prediction[0] == 0:\n",
    "    print(\"Predicted: Apple\")\n",
    "else:\n",
    "    print(\"Predicted: Orange\")"
   ]
  },
  {
   "cell_type": "code",
   "execution_count": null,
   "metadata": {},
   "outputs": [],
   "source": []
  }
 ],
 "metadata": {
  "kernelspec": {
   "display_name": "Python 3",
   "language": "python",
   "name": "python3"
  },
  "language_info": {
   "codemirror_mode": {
    "name": "ipython",
    "version": 3
   },
   "file_extension": ".py",
   "mimetype": "text/x-python",
   "name": "python",
   "nbconvert_exporter": "python",
   "pygments_lexer": "ipython3",
   "version": "3.11.2"
  }
 },
 "nbformat": 4,
 "nbformat_minor": 2
}
