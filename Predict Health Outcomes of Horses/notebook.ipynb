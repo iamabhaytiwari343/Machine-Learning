{
 "cells": [
  {
   "cell_type": "code",
   "execution_count": null,
   "metadata": {},
   "outputs": [],
   "source": [
    "import pandas as pd\n",
    "import numpy as np\n"
   ]
  },
  {
   "cell_type": "code",
   "execution_count": null,
   "metadata": {},
   "outputs": [],
   "source": [
    "test=pd.read_csv('test.csv')\n",
    "train=pd.read_csv('train.csv')"
   ]
  },
  {
   "cell_type": "code",
   "execution_count": null,
   "metadata": {},
   "outputs": [],
   "source": [
    "outcome=train['outcome']\n",
    "outcome.head(1)"
   ]
  },
  {
   "cell_type": "code",
   "execution_count": null,
   "metadata": {},
   "outputs": [],
   "source": [
    "train = train[['id', 'surgery', 'age', 'hospital_number', 'rectal_temp', 'pulse',\n",
    "               'respiratory_rate', 'temp_of_extremities', 'peripheral_pulse',\n",
    "              'mucous_membrane', 'capillary_refill_time', 'pain', 'peristalsis',\n",
    "               'abdominal_distention', 'nasogastric_tube', 'nasogastric_reflux',\n",
    "               'nasogastric_reflux_ph', 'rectal_exam_feces', 'abdomen',\n",
    "               'packed_cell_volume', 'total_protein', 'abdomo_appearance',\n",
    "               'abdomo_protein', 'surgical_lesion', 'lesion_1', 'lesion_2', 'lesion_3',\n",
    "               'cp_data']]\n"
   ]
  },
  {
   "cell_type": "code",
   "execution_count": null,
   "metadata": {},
   "outputs": [],
   "source": [
    "train.describe()\n"
   ]
  },
  {
   "cell_type": "code",
   "execution_count": null,
   "metadata": {},
   "outputs": [],
   "source": [
    "train.info()\n"
   ]
  },
  {
   "cell_type": "code",
   "execution_count": null,
   "metadata": {},
   "outputs": [],
   "source": [
    "train.shape"
   ]
  },
  {
   "cell_type": "code",
   "execution_count": 136,
   "metadata": {},
   "outputs": [],
   "source": [
    "# Replace None with NaN using replace()\n",
    "# train.replace(to_replace=None, value=np.nan, inplace=True)\n",
    "# train = train.fillna(value=np.nan)\n",
    "value_to_replace = 'none'\n",
    "# column_to_replace_in = 'temp_of_extremities'\n",
    "# train.loc[train[column_to_replace_in] ==\n",
    "#        value_to_replace, column_to_replace_in] = np.nan\n",
    "columns_to_replace_in = train.columns  # .to_list()\n",
    "for column in columns_to_replace_in:\n",
    "    train.loc[train[column] == value_to_replace, column] = np.nan\n",
    "columns_to_replace_in = test.columns  # .to_list()\n",
    "for column in columns_to_replace_in:\n",
    "    test.loc[test[column] == value_to_replace, column] = np.nan\n",
    "#"
   ]
  },
  {
   "cell_type": "code",
   "execution_count": 137,
   "metadata": {},
   "outputs": [
    {
     "data": {
      "text/plain": [
       "id                         0\n",
       "surgery                    0\n",
       "age                        0\n",
       "hospital_number            0\n",
       "rectal_temp                0\n",
       "pulse                      0\n",
       "respiratory_rate           0\n",
       "temp_of_extremities        0\n",
       "peripheral_pulse           0\n",
       "mucous_membrane            0\n",
       "capillary_refill_time      0\n",
       "pain                       0\n",
       "peristalsis                0\n",
       "abdominal_distention     155\n",
       "nasogastric_tube         176\n",
       "nasogastric_reflux       229\n",
       "nasogastric_reflux_ph      0\n",
       "rectal_exam_feces          0\n",
       "abdomen                    0\n",
       "packed_cell_volume         0\n",
       "total_protein              0\n",
       "abdomo_appearance          0\n",
       "abdomo_protein             0\n",
       "surgical_lesion            0\n",
       "lesion_1                   0\n",
       "lesion_2                   0\n",
       "lesion_3                   0\n",
       "cp_data                    0\n",
       "dtype: int64"
      ]
     },
     "execution_count": 137,
     "metadata": {},
     "output_type": "execute_result"
    }
   ],
   "source": [
    "test.isnull().sum()\n"
   ]
  },
  {
   "cell_type": "code",
   "execution_count": 138,
   "metadata": {},
   "outputs": [
    {
     "data": {
      "text/plain": [
       "id                         0\n",
       "surgery                    0\n",
       "age                        0\n",
       "hospital_number            0\n",
       "rectal_temp                0\n",
       "pulse                      0\n",
       "respiratory_rate           0\n",
       "temp_of_extremities        0\n",
       "peripheral_pulse           0\n",
       "mucous_membrane            0\n",
       "capillary_refill_time      0\n",
       "pain                       0\n",
       "peristalsis                0\n",
       "abdominal_distention     216\n",
       "nasogastric_tube         297\n",
       "nasogastric_reflux       339\n",
       "nasogastric_reflux_ph      0\n",
       "rectal_exam_feces          0\n",
       "abdomen                    0\n",
       "packed_cell_volume         0\n",
       "total_protein              0\n",
       "abdomo_appearance          0\n",
       "abdomo_protein             0\n",
       "surgical_lesion            0\n",
       "lesion_1                   0\n",
       "lesion_2                   0\n",
       "lesion_3                   0\n",
       "cp_data                    0\n",
       "dtype: int64"
      ]
     },
     "execution_count": 138,
     "metadata": {},
     "output_type": "execute_result"
    }
   ],
   "source": [
    "\n",
    "# train.to_csv('train1.csv',index=False)\n",
    "# test.to_csv('test1.csv',index=False)\n",
    "# outcome.to_csv('outcome_train.csv',index=False)\n",
    "train.isnull().sum()\n"
   ]
  },
  {
   "cell_type": "code",
   "execution_count": null,
   "metadata": {},
   "outputs": [],
   "source": [
    "train['temp_of_extremities'].fillna(train['temp_of_extremities'].mode()[0], inplace=True)\n",
    "test['temp_of_extremities'].fillna(test['temp_of_extremities'].mode()[0],inplace=True)\n",
    "train['peripheral_pulse'].fillna(train['peripheral_pulse'].mode()[0], inplace=True)\n",
    "test['peripheral_pulse'].fillna(test['peripheral_pulse'].mode()[0],inplace=True)\n",
    "train['capillary_refill_time'].fillna(\n",
    "    train['capillary_refill_time'].mode()[0], inplace=True)\n",
    "test['capillary_refill_time'].fillna(test['capillary_refill_time'].mode()[0],inplace=True)"
   ]
  },
  {
   "cell_type": "code",
   "execution_count": 139,
   "metadata": {},
   "outputs": [
    {
     "name": "stdout",
     "output_type": "stream",
     "text": [
      "moderate    551\n",
      "slight      354\n",
      "severe      114\n",
      "Name: abdominal_distention, dtype: int64\n",
      "moderate    336\n",
      "slight      264\n",
      "severe       69\n",
      "Name: abdominal_distention, dtype: int64\n"
     ]
    }
   ],
   "source": [
    "# print(train[\"mucous_membrane\"].unique())\n",
    "print(train[\"abdominal_distention\"].value_counts())\n",
    "print(test[\"abdominal_distention\"].value_counts())\n"
   ]
  },
  {
   "cell_type": "code",
   "execution_count": 140,
   "metadata": {},
   "outputs": [],
   "source": [
    "column_to_impute = ['mucous_membrane', 'pain',\n",
    "                    'peristalsis', 'abdominal_distention', 'nasogastric_tube', 'nasogastric_reflux', 'rectal_exam_feces', 'abdomen', 'abdomo_appearance', 'abdominal_distention', 'nasogastric_tube', 'nasogastric_reflux']\n",
    "for column in column_to_impute:\n",
    "    train[column] = train[column].fillna(method='ffill')\n",
    "    test[column] = test[column].fillna(method='ffill')\n"
   ]
  },
  {
   "cell_type": "code",
   "execution_count": 141,
   "metadata": {},
   "outputs": [
    {
     "name": "stdout",
     "output_type": "stream",
     "text": [
      "0\n",
      "0\n"
     ]
    }
   ],
   "source": [
    "value_to_count = 'none'\n",
    "c=test.columns\n",
    "count_in_train=0\n",
    "count_in_test=0\n",
    "for i in c:\n",
    "    count_in_train = count_in_train + (train[i] == value_to_count).sum()\n",
    "    count_in_test = count_in_test + (test[i] == value_to_count).sum()\n",
    "print(count_in_train)\n",
    "print(count_in_test)\n",
    "\n"
   ]
  },
  {
   "cell_type": "code",
   "execution_count": null,
   "metadata": {},
   "outputs": [],
   "source": []
  },
  {
   "cell_type": "code",
   "execution_count": null,
   "metadata": {},
   "outputs": [],
   "source": []
  }
 ],
 "metadata": {
  "kernelspec": {
   "display_name": "Python 3",
   "language": "python",
   "name": "python3"
  },
  "language_info": {
   "codemirror_mode": {
    "name": "ipython",
    "version": 3
   },
   "file_extension": ".py",
   "mimetype": "text/x-python",
   "name": "python",
   "nbconvert_exporter": "python",
   "pygments_lexer": "ipython3",
   "version": "3.11.2"
  },
  "orig_nbformat": 4
 },
 "nbformat": 4,
 "nbformat_minor": 2
}
